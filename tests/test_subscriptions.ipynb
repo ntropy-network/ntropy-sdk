{
 "cells": [
  {
   "cell_type": "code",
   "execution_count": 1,
   "metadata": {
    "pycharm": {
     "name": "#%%\n"
    }
   },
   "outputs": [],
   "source": [
    "%load_ext autoreload\n",
    "%autoreload 2"
   ]
  },
  {
   "cell_type": "code",
   "execution_count": 17,
   "outputs": [
    {
     "name": "stdout",
     "output_type": "stream",
     "text": [
      "env: NTROPY_API_KEY=\n",
      "env: NTROPY_API_URL=\n"
     ]
    }
   ],
   "source": [
    "%env NTROPY_API_KEY=\n",
    "%env NTROPY_API_URL="
   ],
   "metadata": {
    "collapsed": false,
    "pycharm": {
     "name": "#%%\n"
    }
   }
  },
  {
   "cell_type": "code",
   "execution_count": 3,
   "metadata": {
    "pycharm": {
     "name": "#%%\n"
    }
   },
   "outputs": [],
   "source": [
    "import os\n",
    "import uuid\n",
    "from IPython.core.display_functions import display\n",
    "from tests import API_KEY\n",
    "from ntropy_sdk import SDK, Transaction\n",
    "\n",
    "sdk = SDK(API_KEY)\n",
    "\n",
    "url = os.environ.get(\"NTROPY_API_URL\")\n",
    "if url is not None:\n",
    "    sdk.base_url = url"
   ]
  },
  {
   "cell_type": "code",
   "execution_count": 4,
   "metadata": {
    "pycharm": {
     "name": "#%%\n"
    }
   },
   "outputs": [],
   "source": [
    "ah_id = str(uuid.uuid4())\n",
    "txs = [\n",
    "    Transaction(\n",
    "\n",
    "            amount=17.99,\n",
    "            description=\"Netflix\",\n",
    "            entry_type=\"debit\",\n",
    "            date=\"2022-01-01\",\n",
    "            iso_currency_code=\"USD\",\n",
    "            transaction_id=\"tx-1\",\n",
    "            account_holder_type=\"consumer\",\n",
    "            account_holder_id=ah_id,\n",
    "        ),\n",
    "        Transaction(\n",
    "            amount=17.99,\n",
    "            description=\"Netflix\",\n",
    "            entry_type=\"debit\",\n",
    "            date=\"2022-02-01\",\n",
    "            iso_currency_code=\"USD\",\n",
    "            transaction_id=\"tx-2\",\n",
    "            account_holder_type=\"consumer\",\n",
    "            account_holder_id=ah_id,\n",
    "        ),\n",
    "        Transaction(\n",
    "            amount=17.99,\n",
    "            description=\"Netflix\",\n",
    "            entry_type=\"debit\",\n",
    "            date=\"2022-03-01\",\n",
    "            iso_currency_code=\"USD\",\n",
    "            transaction_id=\"tx-3\",\n",
    "            account_holder_type=\"consumer\",\n",
    "            account_holder_id=ah_id,\n",
    "        ),\n",
    "        Transaction(\n",
    "            amount=17.99,\n",
    "            description=\"Netflix\",\n",
    "            entry_type=\"debit\",\n",
    "            date=\"2022-04-01\",\n",
    "            iso_currency_code=\"USD\",\n",
    "            transaction_id=\"tx-4\",\n",
    "            account_holder_type=\"consumer\",\n",
    "            account_holder_id=ah_id,\n",
    "        ),\n",
    "        Transaction(\n",
    "            amount=9.99,\n",
    "            description=\"Spotify\",\n",
    "            entry_type=\"debit\",\n",
    "            date=\"2022-01-15\",\n",
    "            iso_currency_code=\"USD\",\n",
    "            transaction_id=\"tx-5\",\n",
    "            account_holder_type=\"consumer\",\n",
    "            account_holder_id=ah_id,\n",
    "        ),\n",
    "        Transaction(\n",
    "            amount=9.99,\n",
    "            description=\"Spotify\",\n",
    "            entry_type=\"debit\",\n",
    "            date=\"2022-02-15\",\n",
    "            iso_currency_code=\"USD\",\n",
    "            transaction_id=\"tx-6\",\n",
    "            account_holder_type=\"consumer\",\n",
    "            account_holder_id=ah_id,\n",
    "        ),\n",
    "        Transaction(\n",
    "            amount=9.99,\n",
    "            description=\"Spotify\",\n",
    "            entry_type=\"debit\",\n",
    "            date=\"2022-03-15\",\n",
    "            iso_currency_code=\"USD\",\n",
    "            transaction_id=\"tx-7\",\n",
    "            account_holder_type=\"consumer\",\n",
    "            account_holder_id=ah_id,\n",
    "        ),\n",
    "        Transaction(\n",
    "            amount=11.99,\n",
    "            description=\"Dropbox\",\n",
    "            entry_type=\"debit\",\n",
    "            date=\"2022-03-15\",\n",
    "            iso_currency_code=\"USD\",\n",
    "            transaction_id=\"tx-8\",\n",
    "            account_holder_type=\"consumer\",\n",
    "            account_holder_id=ah_id,\n",
    "        ),\n",
    "     Transaction(\n",
    "            amount=1000,\n",
    "            description=\"Rent\",\n",
    "            entry_type=\"debit\",\n",
    "            date=\"2022-01-01\",\n",
    "            iso_currency_code=\"USD\",\n",
    "            transaction_id=\"tx-9\",\n",
    "            account_holder_type=\"consumer\",\n",
    "            account_holder_id=ah_id,\n",
    "        ),\n",
    "     Transaction(\n",
    "            amount=1000,\n",
    "            description=\"Rent\",\n",
    "            entry_type=\"debit\",\n",
    "            date=\"2022-02-01\",\n",
    "            iso_currency_code=\"USD\",\n",
    "            transaction_id=\"tx-10\",\n",
    "            account_holder_type=\"consumer\",\n",
    "            account_holder_id=ah_id,\n",
    "        ),\n",
    "        Transaction(\n",
    "            amount=1000,\n",
    "            description=\"Rent\",\n",
    "            entry_type=\"debit\",\n",
    "            date=\"2022-03-01\",\n",
    "            iso_currency_code=\"USD\",\n",
    "            transaction_id=\"tx-11\",\n",
    "            account_holder_type=\"consumer\",\n",
    "            account_holder_id=ah_id,\n",
    "        ),\n",
    "    Transaction(\n",
    "            amount=100,\n",
    "            description=\"Con Edison\",\n",
    "            entry_type=\"debit\",\n",
    "            date=\"2022-01-01\",\n",
    "            iso_currency_code=\"USD\",\n",
    "            transaction_id=\"tx-12\",\n",
    "            account_holder_type=\"consumer\",\n",
    "            account_holder_id=ah_id,\n",
    "        ),\n",
    "        Transaction(\n",
    "            amount=100,\n",
    "            description=\"Con Edison\",\n",
    "            entry_type=\"debit\",\n",
    "            date=\"2022-02-01\",\n",
    "            iso_currency_code=\"USD\",\n",
    "            transaction_id=\"tx-13\",\n",
    "            account_holder_type=\"consumer\",\n",
    "            account_holder_id=ah_id,\n",
    "        ),\n",
    "            Transaction(\n",
    "            amount=100,\n",
    "            description=\"Con Edison\",\n",
    "            entry_type=\"debit\",\n",
    "            date=\"2022-03-01\",\n",
    "            iso_currency_code=\"USD\",\n",
    "            transaction_id=\"tx-14\",\n",
    "            account_holder_type=\"consumer\",\n",
    "            account_holder_id=ah_id,\n",
    "        ),\n",
    "\n",
    "    ]"
   ]
  },
  {
   "cell_type": "code",
   "execution_count": 5,
   "metadata": {
    "pycharm": {
     "name": "#%%\n"
    }
   },
   "outputs": [
    {
     "data": {
      "text/plain": "date          amount  entry_type    iso_currency_code    description    account_holder_id                     account_holder_type    transaction_id    labels                                            location    logo                                                  merchant             merchant_id                           person    website      chart_of_accounts    recurrence    recurrence_group\n----------  --------  ------------  -------------------  -------------  ------------------------------------  ---------------------  ----------------  ------------------------------------------------  ----------  ----------------------------------------------------  -------------------  ------------------------------------  --------  -----------  -------------------  ------------  ----------------------------------------------------------------------------------------------------------------------------------------------------------------------------------------------------------------------------------------------------------------------------------------------------------------------------------------\n2022-01-01     17.99  debit         USD                  Netflix        cd1738c1-9e66-4d96-b25e-9fc9c7a510f5  consumer               tx-1              ['entertainment', 'television', 'subscriptions']              https://logos.ntropy.com/netflix.com                  Netflix              dc425051-df94-3509-9103-cf8c0f0bcf6a            netflix.com  []                   subscription  {'date_of_first_tx': datetime.date(2022, 1, 1), 'date_of_last_tx': datetime.date(2022, 4, 1), 'frequency_in_days': 31, 'average_amount_per_tx': 17.99, 'other_party': 'netflix.com', 'id': '1742734f-dca0-3549-b8af-515ebc272098', 'transaction_ids': ['tx-1', 'tx-2', 'tx-3', 'tx-4'], 'periodicity': 'monthly', 'total_amount': 71.96}\n2022-02-01     17.99  debit         USD                  Netflix        cd1738c1-9e66-4d96-b25e-9fc9c7a510f5  consumer               tx-2              ['entertainment', 'television', 'subscriptions']              https://logos.ntropy.com/netflix.com                  Netflix              dc425051-df94-3509-9103-cf8c0f0bcf6a            netflix.com  []                   subscription  {'date_of_first_tx': datetime.date(2022, 1, 1), 'date_of_last_tx': datetime.date(2022, 4, 1), 'frequency_in_days': 31, 'average_amount_per_tx': 17.99, 'other_party': 'netflix.com', 'id': '1742734f-dca0-3549-b8af-515ebc272098', 'transaction_ids': ['tx-1', 'tx-2', 'tx-3', 'tx-4'], 'periodicity': 'monthly', 'total_amount': 71.96}\n2022-03-01     17.99  debit         USD                  Netflix        cd1738c1-9e66-4d96-b25e-9fc9c7a510f5  consumer               tx-3              ['entertainment', 'television', 'subscriptions']              https://logos.ntropy.com/netflix.com                  Netflix              dc425051-df94-3509-9103-cf8c0f0bcf6a            netflix.com  []                   subscription  {'date_of_first_tx': datetime.date(2022, 1, 1), 'date_of_last_tx': datetime.date(2022, 4, 1), 'frequency_in_days': 31, 'average_amount_per_tx': 17.99, 'other_party': 'netflix.com', 'id': '1742734f-dca0-3549-b8af-515ebc272098', 'transaction_ids': ['tx-1', 'tx-2', 'tx-3', 'tx-4'], 'periodicity': 'monthly', 'total_amount': 71.96}\n2022-04-01     17.99  debit         USD                  Netflix        cd1738c1-9e66-4d96-b25e-9fc9c7a510f5  consumer               tx-4              ['entertainment', 'television', 'subscriptions']              https://logos.ntropy.com/netflix.com                  Netflix              dc425051-df94-3509-9103-cf8c0f0bcf6a            netflix.com  []                   subscription  {'date_of_first_tx': datetime.date(2022, 1, 1), 'date_of_last_tx': datetime.date(2022, 4, 1), 'frequency_in_days': 31, 'average_amount_per_tx': 17.99, 'other_party': 'netflix.com', 'id': '1742734f-dca0-3549-b8af-515ebc272098', 'transaction_ids': ['tx-1', 'tx-2', 'tx-3', 'tx-4'], 'periodicity': 'monthly', 'total_amount': 71.96}\n2022-01-15      9.99  debit         USD                  Spotify        cd1738c1-9e66-4d96-b25e-9fc9c7a510f5  consumer               tx-5              ['entertainment', 'music', 'subscriptions']                   https://logos.ntropy.com/spotify.com                  Spotify              dff87b60-eb39-3df9-9232-39f89ff78df9            spotify.com  []                   subscription  {'date_of_first_tx': datetime.date(2022, 1, 15), 'date_of_last_tx': datetime.date(2022, 3, 15), 'frequency_in_days': 29, 'average_amount_per_tx': 9.99, 'other_party': 'spotify.com', 'id': 'e2ec0a07-fd81-3780-b99b-3ca3f7445fbe', 'transaction_ids': ['tx-5', 'tx-6', 'tx-7'], 'periodicity': 'monthly', 'total_amount': 29.97}\n2022-02-15      9.99  debit         USD                  Spotify        cd1738c1-9e66-4d96-b25e-9fc9c7a510f5  consumer               tx-6              ['entertainment', 'music', 'subscriptions']                   https://logos.ntropy.com/spotify.com                  Spotify              dff87b60-eb39-3df9-9232-39f89ff78df9            spotify.com  []                   subscription  {'date_of_first_tx': datetime.date(2022, 1, 15), 'date_of_last_tx': datetime.date(2022, 3, 15), 'frequency_in_days': 29, 'average_amount_per_tx': 9.99, 'other_party': 'spotify.com', 'id': 'e2ec0a07-fd81-3780-b99b-3ca3f7445fbe', 'transaction_ids': ['tx-5', 'tx-6', 'tx-7'], 'periodicity': 'monthly', 'total_amount': 29.97}\n2022-03-15      9.99  debit         USD                  Spotify        cd1738c1-9e66-4d96-b25e-9fc9c7a510f5  consumer               tx-7              ['entertainment', 'music', 'subscriptions']                   https://logos.ntropy.com/spotify.com                  Spotify              dff87b60-eb39-3df9-9232-39f89ff78df9            spotify.com  []                   subscription  {'date_of_first_tx': datetime.date(2022, 1, 15), 'date_of_last_tx': datetime.date(2022, 3, 15), 'frequency_in_days': 29, 'average_amount_per_tx': 9.99, 'other_party': 'spotify.com', 'id': 'e2ec0a07-fd81-3780-b99b-3ca3f7445fbe', 'transaction_ids': ['tx-5', 'tx-6', 'tx-7'], 'periodicity': 'monthly', 'total_amount': 29.97}\n2022-03-15     11.99  debit         USD                  Dropbox        cd1738c1-9e66-4d96-b25e-9fc9c7a510f5  consumer               tx-8              ['goods', 'software', 'subscriptions']                        https://logos.ntropy.com/dropbox.com                  Dropbox              65799e0f-90c4-3cc0-9ae6-499d81e79137            dropbox.com  []                   subscription  {'date_of_first_tx': datetime.date(2022, 3, 15), 'date_of_last_tx': datetime.date(2022, 3, 15), 'frequency_in_days': 30, 'average_amount_per_tx': 11.99, 'other_party': 'dropbox.com', 'id': 'de657ab1-d4f5-3789-b728-a7a45908908b', 'transaction_ids': ['tx-8'], 'periodicity': 'monthly', 'total_amount': 11.99}\n2022-01-01   1000     debit         USD                  Rent           cd1738c1-9e66-4d96-b25e-9fc9c7a510f5  consumer               tx-9              ['housing', 'rent']                                           https://logos.ntropy.com/consumer_icons-housing-rent                                                                                    []                   recurring     {'date_of_first_tx': datetime.date(2022, 1, 1), 'date_of_last_tx': datetime.date(2022, 3, 1), 'frequency_in_days': 29, 'average_amount_per_tx': 1000.0, 'other_party': 'unknown', 'id': '9213c470-5a8e-3436-b857-e6f503476e7f', 'transaction_ids': ['tx-9', 'tx-10', 'tx-11'], 'periodicity': 'monthly', 'total_amount': 3000.0}\n2022-02-01   1000     debit         USD                  Rent           cd1738c1-9e66-4d96-b25e-9fc9c7a510f5  consumer               tx-10             ['housing', 'rent']                                           https://logos.ntropy.com/consumer_icons-housing-rent                                                                                    []                   recurring     {'date_of_first_tx': datetime.date(2022, 1, 1), 'date_of_last_tx': datetime.date(2022, 3, 1), 'frequency_in_days': 29, 'average_amount_per_tx': 1000.0, 'other_party': 'unknown', 'id': '9213c470-5a8e-3436-b857-e6f503476e7f', 'transaction_ids': ['tx-9', 'tx-10', 'tx-11'], 'periodicity': 'monthly', 'total_amount': 3000.0}\n2022-03-01   1000     debit         USD                  Rent           cd1738c1-9e66-4d96-b25e-9fc9c7a510f5  consumer               tx-11             ['housing', 'rent']                                           https://logos.ntropy.com/consumer_icons-housing-rent                                                                                    []                   recurring     {'date_of_first_tx': datetime.date(2022, 1, 1), 'date_of_last_tx': datetime.date(2022, 3, 1), 'frequency_in_days': 29, 'average_amount_per_tx': 1000.0, 'other_party': 'unknown', 'id': '9213c470-5a8e-3436-b857-e6f503476e7f', 'transaction_ids': ['tx-9', 'tx-10', 'tx-11'], 'periodicity': 'monthly', 'total_amount': 3000.0}\n2022-01-01    100     debit         USD                  Con Edison     cd1738c1-9e66-4d96-b25e-9fc9c7a510f5  consumer               tx-12             ['utilities']                                                 https://logos.ntropy.com/coned.com                    Consolidated Edison  53f5eb62-74aa-39de-bd42-edb6cd8b53e1            coned.com    []                   recurring     {'date_of_first_tx': datetime.date(2022, 1, 1), 'date_of_last_tx': datetime.date(2022, 3, 1), 'frequency_in_days': 29, 'average_amount_per_tx': 100.0, 'other_party': 'coned.com', 'id': 'b0032c36-89d1-346c-87e2-27f93a17df47', 'transaction_ids': ['tx-12', 'tx-13', 'tx-14'], 'periodicity': 'monthly', 'total_amount': 300.0}\n2022-02-01    100     debit         USD                  Con Edison     cd1738c1-9e66-4d96-b25e-9fc9c7a510f5  consumer               tx-13             ['utilities']                                                 https://logos.ntropy.com/coned.com                    Consolidated Edison  53f5eb62-74aa-39de-bd42-edb6cd8b53e1            coned.com    []                   recurring     {'date_of_first_tx': datetime.date(2022, 1, 1), 'date_of_last_tx': datetime.date(2022, 3, 1), 'frequency_in_days': 29, 'average_amount_per_tx': 100.0, 'other_party': 'coned.com', 'id': 'b0032c36-89d1-346c-87e2-27f93a17df47', 'transaction_ids': ['tx-12', 'tx-13', 'tx-14'], 'periodicity': 'monthly', 'total_amount': 300.0}\n2022-03-01    100     debit         USD                  Con Edison     cd1738c1-9e66-4d96-b25e-9fc9c7a510f5  consumer               tx-14             ['utilities']                                                 https://logos.ntropy.com/coned.com                    Consolidated Edison  53f5eb62-74aa-39de-bd42-edb6cd8b53e1            coned.com    []                   recurring     {'date_of_first_tx': datetime.date(2022, 1, 1), 'date_of_last_tx': datetime.date(2022, 3, 1), 'frequency_in_days': 29, 'average_amount_per_tx': 100.0, 'other_party': 'coned.com', 'id': 'b0032c36-89d1-346c-87e2-27f93a17df47', 'transaction_ids': ['tx-12', 'tx-13', 'tx-14'], 'periodicity': 'monthly', 'total_amount': 300.0}",
      "text/html": "<div>\n<style scoped>\n    .dataframe tbody tr th:only-of-type {\n        vertical-align: middle;\n    }\n\n    .dataframe tbody tr th {\n        vertical-align: top;\n    }\n\n    .dataframe thead th {\n        text-align: right;\n    }\n</style>\n<table border=\"1\" class=\"dataframe\">\n  <thead>\n    <tr style=\"text-align: right;\">\n      <th></th>\n      <th>date</th>\n      <th>amount</th>\n      <th>entry_type</th>\n      <th>iso_currency_code</th>\n      <th>description</th>\n      <th>account_holder_id</th>\n      <th>account_holder_type</th>\n      <th>transaction_id</th>\n      <th>labels</th>\n      <th>location</th>\n      <th>logo</th>\n      <th>merchant</th>\n      <th>merchant_id</th>\n      <th>person</th>\n      <th>website</th>\n      <th>chart_of_accounts</th>\n      <th>recurrence</th>\n      <th>recurrence_group</th>\n    </tr>\n  </thead>\n  <tbody>\n    <tr>\n      <th>0</th>\n      <td>2022-01-01</td>\n      <td>17.99</td>\n      <td>debit</td>\n      <td>USD</td>\n      <td>Netflix</td>\n      <td>cd1738c1-9e66-4d96-b25e-9fc9c7a510f5</td>\n      <td>consumer</td>\n      <td>tx-1</td>\n      <td>[entertainment, television, subscriptions]</td>\n      <td>None</td>\n      <td>https://logos.ntropy.com/netflix.com</td>\n      <td>Netflix</td>\n      <td>dc425051-df94-3509-9103-cf8c0f0bcf6a</td>\n      <td>None</td>\n      <td>netflix.com</td>\n      <td>[]</td>\n      <td>subscription</td>\n      <td>{'date_of_first_tx': 2022-01-01, 'date_of_last...</td>\n    </tr>\n    <tr>\n      <th>1</th>\n      <td>2022-02-01</td>\n      <td>17.99</td>\n      <td>debit</td>\n      <td>USD</td>\n      <td>Netflix</td>\n      <td>cd1738c1-9e66-4d96-b25e-9fc9c7a510f5</td>\n      <td>consumer</td>\n      <td>tx-2</td>\n      <td>[entertainment, television, subscriptions]</td>\n      <td>None</td>\n      <td>https://logos.ntropy.com/netflix.com</td>\n      <td>Netflix</td>\n      <td>dc425051-df94-3509-9103-cf8c0f0bcf6a</td>\n      <td>None</td>\n      <td>netflix.com</td>\n      <td>[]</td>\n      <td>subscription</td>\n      <td>{'date_of_first_tx': 2022-01-01, 'date_of_last...</td>\n    </tr>\n    <tr>\n      <th>2</th>\n      <td>2022-03-01</td>\n      <td>17.99</td>\n      <td>debit</td>\n      <td>USD</td>\n      <td>Netflix</td>\n      <td>cd1738c1-9e66-4d96-b25e-9fc9c7a510f5</td>\n      <td>consumer</td>\n      <td>tx-3</td>\n      <td>[entertainment, television, subscriptions]</td>\n      <td>None</td>\n      <td>https://logos.ntropy.com/netflix.com</td>\n      <td>Netflix</td>\n      <td>dc425051-df94-3509-9103-cf8c0f0bcf6a</td>\n      <td>None</td>\n      <td>netflix.com</td>\n      <td>[]</td>\n      <td>subscription</td>\n      <td>{'date_of_first_tx': 2022-01-01, 'date_of_last...</td>\n    </tr>\n    <tr>\n      <th>3</th>\n      <td>2022-04-01</td>\n      <td>17.99</td>\n      <td>debit</td>\n      <td>USD</td>\n      <td>Netflix</td>\n      <td>cd1738c1-9e66-4d96-b25e-9fc9c7a510f5</td>\n      <td>consumer</td>\n      <td>tx-4</td>\n      <td>[entertainment, television, subscriptions]</td>\n      <td>None</td>\n      <td>https://logos.ntropy.com/netflix.com</td>\n      <td>Netflix</td>\n      <td>dc425051-df94-3509-9103-cf8c0f0bcf6a</td>\n      <td>None</td>\n      <td>netflix.com</td>\n      <td>[]</td>\n      <td>subscription</td>\n      <td>{'date_of_first_tx': 2022-01-01, 'date_of_last...</td>\n    </tr>\n    <tr>\n      <th>4</th>\n      <td>2022-01-15</td>\n      <td>9.99</td>\n      <td>debit</td>\n      <td>USD</td>\n      <td>Spotify</td>\n      <td>cd1738c1-9e66-4d96-b25e-9fc9c7a510f5</td>\n      <td>consumer</td>\n      <td>tx-5</td>\n      <td>[entertainment, music, subscriptions]</td>\n      <td>None</td>\n      <td>https://logos.ntropy.com/spotify.com</td>\n      <td>Spotify</td>\n      <td>dff87b60-eb39-3df9-9232-39f89ff78df9</td>\n      <td>None</td>\n      <td>spotify.com</td>\n      <td>[]</td>\n      <td>subscription</td>\n      <td>{'date_of_first_tx': 2022-01-15, 'date_of_last...</td>\n    </tr>\n    <tr>\n      <th>5</th>\n      <td>2022-02-15</td>\n      <td>9.99</td>\n      <td>debit</td>\n      <td>USD</td>\n      <td>Spotify</td>\n      <td>cd1738c1-9e66-4d96-b25e-9fc9c7a510f5</td>\n      <td>consumer</td>\n      <td>tx-6</td>\n      <td>[entertainment, music, subscriptions]</td>\n      <td>None</td>\n      <td>https://logos.ntropy.com/spotify.com</td>\n      <td>Spotify</td>\n      <td>dff87b60-eb39-3df9-9232-39f89ff78df9</td>\n      <td>None</td>\n      <td>spotify.com</td>\n      <td>[]</td>\n      <td>subscription</td>\n      <td>{'date_of_first_tx': 2022-01-15, 'date_of_last...</td>\n    </tr>\n    <tr>\n      <th>6</th>\n      <td>2022-03-15</td>\n      <td>9.99</td>\n      <td>debit</td>\n      <td>USD</td>\n      <td>Spotify</td>\n      <td>cd1738c1-9e66-4d96-b25e-9fc9c7a510f5</td>\n      <td>consumer</td>\n      <td>tx-7</td>\n      <td>[entertainment, music, subscriptions]</td>\n      <td>None</td>\n      <td>https://logos.ntropy.com/spotify.com</td>\n      <td>Spotify</td>\n      <td>dff87b60-eb39-3df9-9232-39f89ff78df9</td>\n      <td>None</td>\n      <td>spotify.com</td>\n      <td>[]</td>\n      <td>subscription</td>\n      <td>{'date_of_first_tx': 2022-01-15, 'date_of_last...</td>\n    </tr>\n    <tr>\n      <th>7</th>\n      <td>2022-03-15</td>\n      <td>11.99</td>\n      <td>debit</td>\n      <td>USD</td>\n      <td>Dropbox</td>\n      <td>cd1738c1-9e66-4d96-b25e-9fc9c7a510f5</td>\n      <td>consumer</td>\n      <td>tx-8</td>\n      <td>[goods, software, subscriptions]</td>\n      <td>None</td>\n      <td>https://logos.ntropy.com/dropbox.com</td>\n      <td>Dropbox</td>\n      <td>65799e0f-90c4-3cc0-9ae6-499d81e79137</td>\n      <td>None</td>\n      <td>dropbox.com</td>\n      <td>[]</td>\n      <td>subscription</td>\n      <td>{'date_of_first_tx': 2022-03-15, 'date_of_last...</td>\n    </tr>\n    <tr>\n      <th>8</th>\n      <td>2022-01-01</td>\n      <td>1000.00</td>\n      <td>debit</td>\n      <td>USD</td>\n      <td>Rent</td>\n      <td>cd1738c1-9e66-4d96-b25e-9fc9c7a510f5</td>\n      <td>consumer</td>\n      <td>tx-9</td>\n      <td>[housing, rent]</td>\n      <td>None</td>\n      <td>https://logos.ntropy.com/consumer_icons-housin...</td>\n      <td>None</td>\n      <td>None</td>\n      <td>None</td>\n      <td>None</td>\n      <td>[]</td>\n      <td>recurring</td>\n      <td>{'date_of_first_tx': 2022-01-01, 'date_of_last...</td>\n    </tr>\n    <tr>\n      <th>9</th>\n      <td>2022-02-01</td>\n      <td>1000.00</td>\n      <td>debit</td>\n      <td>USD</td>\n      <td>Rent</td>\n      <td>cd1738c1-9e66-4d96-b25e-9fc9c7a510f5</td>\n      <td>consumer</td>\n      <td>tx-10</td>\n      <td>[housing, rent]</td>\n      <td>None</td>\n      <td>https://logos.ntropy.com/consumer_icons-housin...</td>\n      <td>None</td>\n      <td>None</td>\n      <td>None</td>\n      <td>None</td>\n      <td>[]</td>\n      <td>recurring</td>\n      <td>{'date_of_first_tx': 2022-01-01, 'date_of_last...</td>\n    </tr>\n    <tr>\n      <th>10</th>\n      <td>2022-03-01</td>\n      <td>1000.00</td>\n      <td>debit</td>\n      <td>USD</td>\n      <td>Rent</td>\n      <td>cd1738c1-9e66-4d96-b25e-9fc9c7a510f5</td>\n      <td>consumer</td>\n      <td>tx-11</td>\n      <td>[housing, rent]</td>\n      <td>None</td>\n      <td>https://logos.ntropy.com/consumer_icons-housin...</td>\n      <td>None</td>\n      <td>None</td>\n      <td>None</td>\n      <td>None</td>\n      <td>[]</td>\n      <td>recurring</td>\n      <td>{'date_of_first_tx': 2022-01-01, 'date_of_last...</td>\n    </tr>\n    <tr>\n      <th>11</th>\n      <td>2022-01-01</td>\n      <td>100.00</td>\n      <td>debit</td>\n      <td>USD</td>\n      <td>Con Edison</td>\n      <td>cd1738c1-9e66-4d96-b25e-9fc9c7a510f5</td>\n      <td>consumer</td>\n      <td>tx-12</td>\n      <td>[utilities]</td>\n      <td>None</td>\n      <td>https://logos.ntropy.com/coned.com</td>\n      <td>Consolidated Edison</td>\n      <td>53f5eb62-74aa-39de-bd42-edb6cd8b53e1</td>\n      <td>None</td>\n      <td>coned.com</td>\n      <td>[]</td>\n      <td>recurring</td>\n      <td>{'date_of_first_tx': 2022-01-01, 'date_of_last...</td>\n    </tr>\n    <tr>\n      <th>12</th>\n      <td>2022-02-01</td>\n      <td>100.00</td>\n      <td>debit</td>\n      <td>USD</td>\n      <td>Con Edison</td>\n      <td>cd1738c1-9e66-4d96-b25e-9fc9c7a510f5</td>\n      <td>consumer</td>\n      <td>tx-13</td>\n      <td>[utilities]</td>\n      <td>None</td>\n      <td>https://logos.ntropy.com/coned.com</td>\n      <td>Consolidated Edison</td>\n      <td>53f5eb62-74aa-39de-bd42-edb6cd8b53e1</td>\n      <td>None</td>\n      <td>coned.com</td>\n      <td>[]</td>\n      <td>recurring</td>\n      <td>{'date_of_first_tx': 2022-01-01, 'date_of_last...</td>\n    </tr>\n    <tr>\n      <th>13</th>\n      <td>2022-03-01</td>\n      <td>100.00</td>\n      <td>debit</td>\n      <td>USD</td>\n      <td>Con Edison</td>\n      <td>cd1738c1-9e66-4d96-b25e-9fc9c7a510f5</td>\n      <td>consumer</td>\n      <td>tx-14</td>\n      <td>[utilities]</td>\n      <td>None</td>\n      <td>https://logos.ntropy.com/coned.com</td>\n      <td>Consolidated Edison</td>\n      <td>53f5eb62-74aa-39de-bd42-edb6cd8b53e1</td>\n      <td>None</td>\n      <td>coned.com</td>\n      <td>[]</td>\n      <td>recurring</td>\n      <td>{'date_of_first_tx': 2022-01-01, 'date_of_last...</td>\n    </tr>\n  </tbody>\n</table>\n</div>"
     },
     "execution_count": 5,
     "metadata": {},
     "output_type": "execute_result"
    }
   ],
   "source": [
    "sdk.add_transactions(txs)"
   ]
  },
  {
   "cell_type": "code",
   "execution_count": 12,
   "outputs": [
    {
     "data": {
      "text/plain": "  # txs    amount  merchant      website      labels          periodicity    is_active    first_payment_date    latest_payment_date    next_expected_payment_date    type          is_essential\n-------  --------  ------------  -----------  --------------  -------------  -----------  --------------------  ---------------------  ----------------------------  ------------  --------------\n      4     17.99  Netflix       netflix.com  entertainment   monthly        True         2022-01-01            2022-04-01             2022-05-01                    subscription  False\n                                              television\n                                              subscriptions\n      1     11.99  Dropbox       dropbox.com  goods software  monthly        True         2022-03-15            2022-03-15             2022-04-15                    subscription  False\n                                              subscriptions\n      3      9.99  Spotify       spotify.com  entertainment   monthly        True         2022-01-15            2022-03-15             2022-04-15                    subscription  False\n                                              music\n                                              subscriptions\n      3   1000                                housing rent    monthly        True         2022-01-01            2022-03-01             2022-04-01                    bill          True\n      3    100     Consolidated  coned.com    utilities       monthly        True         2022-01-01            2022-03-01             2022-04-01                    bill          True\n                   Edison",
      "text/html": "<div>\n<style scoped>\n    .dataframe tbody tr th:only-of-type {\n        vertical-align: middle;\n    }\n\n    .dataframe tbody tr th {\n        vertical-align: top;\n    }\n\n    .dataframe thead th {\n        text-align: right;\n    }\n</style>\n<table border=\"1\" class=\"dataframe\">\n  <thead>\n    <tr style=\"text-align: right;\">\n      <th></th>\n      <th># txs</th>\n      <th>amount</th>\n      <th>merchant</th>\n      <th>website</th>\n      <th>labels</th>\n      <th>periodicity</th>\n      <th>is_active</th>\n      <th>first_payment_date</th>\n      <th>latest_payment_date</th>\n      <th>next_expected_payment_date</th>\n      <th>type</th>\n      <th>is_essential</th>\n    </tr>\n  </thead>\n  <tbody>\n    <tr>\n      <th>0</th>\n      <td>4</td>\n      <td>17.99</td>\n      <td>Netflix</td>\n      <td>netflix.com</td>\n      <td>[entertainment, television, subscriptions]</td>\n      <td>monthly</td>\n      <td>True</td>\n      <td>2022-01-01</td>\n      <td>2022-04-01</td>\n      <td>2022-05-01</td>\n      <td>subscription</td>\n      <td>False</td>\n    </tr>\n    <tr>\n      <th>1</th>\n      <td>1</td>\n      <td>11.99</td>\n      <td>Dropbox</td>\n      <td>dropbox.com</td>\n      <td>[goods, software, subscriptions]</td>\n      <td>monthly</td>\n      <td>True</td>\n      <td>2022-03-15</td>\n      <td>2022-03-15</td>\n      <td>2022-04-15</td>\n      <td>subscription</td>\n      <td>False</td>\n    </tr>\n    <tr>\n      <th>2</th>\n      <td>3</td>\n      <td>9.99</td>\n      <td>Spotify</td>\n      <td>spotify.com</td>\n      <td>[entertainment, music, subscriptions]</td>\n      <td>monthly</td>\n      <td>True</td>\n      <td>2022-01-15</td>\n      <td>2022-03-15</td>\n      <td>2022-04-15</td>\n      <td>subscription</td>\n      <td>False</td>\n    </tr>\n    <tr>\n      <th>3</th>\n      <td>3</td>\n      <td>1000.00</td>\n      <td></td>\n      <td></td>\n      <td>[housing, rent]</td>\n      <td>monthly</td>\n      <td>True</td>\n      <td>2022-01-01</td>\n      <td>2022-03-01</td>\n      <td>2022-04-01</td>\n      <td>bill</td>\n      <td>True</td>\n    </tr>\n    <tr>\n      <th>4</th>\n      <td>3</td>\n      <td>100.00</td>\n      <td>Consolidated Edison</td>\n      <td>coned.com</td>\n      <td>[utilities]</td>\n      <td>monthly</td>\n      <td>True</td>\n      <td>2022-01-01</td>\n      <td>2022-03-01</td>\n      <td>2022-04-01</td>\n      <td>bill</td>\n      <td>True</td>\n    </tr>\n  </tbody>\n</table>\n</div>"
     },
     "execution_count": 12,
     "metadata": {},
     "output_type": "execute_result"
    }
   ],
   "source": [
    "subscriptions = sdk.get_account_subscriptions(ah_id)\n",
    "subscriptions"
   ],
   "metadata": {
    "collapsed": false,
    "pycharm": {
     "name": "#%%\n"
    }
   }
  },
  {
   "cell_type": "code",
   "execution_count": 13,
   "outputs": [
    {
     "data": {
      "text/plain": "--------------------------  ------------------------------------------------\n# txs                       4\namount                      17.99\nmerchant                    Netflix\nwebsite                     netflix.com\nlabels                      ['entertainment', 'television', 'subscriptions']\ntype                        subscription\nis_essential                False\nperiodicity                 monthly\nis_active                   True\nfirst_payment_date          2022-01-01\nlatest_payment_date         2022-04-01\nnext_expected_payment_date  2022-05-01\n--------------------------  ------------------------------------------------",
      "text/html": "<div>\n<style scoped>\n    .dataframe tbody tr th:only-of-type {\n        vertical-align: middle;\n    }\n\n    .dataframe tbody tr th {\n        vertical-align: top;\n    }\n\n    .dataframe thead th {\n        text-align: right;\n    }\n</style>\n<table border=\"1\" class=\"dataframe\">\n  <thead>\n    <tr style=\"text-align: right;\">\n      <th></th>\n      <th>key</th>\n      <th>value</th>\n    </tr>\n  </thead>\n  <tbody>\n    <tr>\n      <th>0</th>\n      <td># txs</td>\n      <td>4</td>\n    </tr>\n    <tr>\n      <th>1</th>\n      <td>amount</td>\n      <td>17.99</td>\n    </tr>\n    <tr>\n      <th>2</th>\n      <td>merchant</td>\n      <td>Netflix</td>\n    </tr>\n    <tr>\n      <th>3</th>\n      <td>website</td>\n      <td>netflix.com</td>\n    </tr>\n    <tr>\n      <th>4</th>\n      <td>labels</td>\n      <td>[entertainment, television, subscriptions]</td>\n    </tr>\n    <tr>\n      <th>5</th>\n      <td>type</td>\n      <td>subscription</td>\n    </tr>\n    <tr>\n      <th>6</th>\n      <td>is_essential</td>\n      <td>False</td>\n    </tr>\n    <tr>\n      <th>7</th>\n      <td>periodicity</td>\n      <td>monthly</td>\n    </tr>\n    <tr>\n      <th>8</th>\n      <td>is_active</td>\n      <td>True</td>\n    </tr>\n    <tr>\n      <th>9</th>\n      <td>first_payment_date</td>\n      <td>2022-01-01</td>\n    </tr>\n    <tr>\n      <th>10</th>\n      <td>latest_payment_date</td>\n      <td>2022-04-01</td>\n    </tr>\n    <tr>\n      <th>11</th>\n      <td>next_expected_payment_date</td>\n      <td>2022-05-01</td>\n    </tr>\n  </tbody>\n</table>\n</div>"
     },
     "execution_count": 13,
     "metadata": {},
     "output_type": "execute_result"
    }
   ],
   "source": [
    "subscriptions[0]"
   ],
   "metadata": {
    "collapsed": false,
    "pycharm": {
     "name": "#%%\n"
    }
   }
  },
  {
   "cell_type": "code",
   "execution_count": 14,
   "outputs": [
    {
     "data": {
      "text/plain": "date          amount  entry_type    iso_currency_code    description    account_holder_id                     transaction_id    labels                                            location    logo                                  merchant    merchant_id                           person    website      chart_of_accounts    recurrence    recurrence_group\n----------  --------  ------------  -------------------  -------------  ------------------------------------  ----------------  ------------------------------------------------  ----------  ------------------------------------  ----------  ------------------------------------  --------  -----------  -------------------  ------------  ------------------\n2022-04-01     17.99  outgoing      USD                  Netflix        cd1738c1-9e66-4d96-b25e-9fc9c7a510f5  tx-4              ['entertainment', 'television', 'subscriptions']              https://logos.ntropy.com/netflix.com  Netflix     dc425051-df94-3509-9103-cf8c0f0bcf6a            netflix.com  []                   subscription\n2022-03-01     17.99  outgoing      USD                  Netflix        cd1738c1-9e66-4d96-b25e-9fc9c7a510f5  tx-3              ['entertainment', 'television', 'subscriptions']              https://logos.ntropy.com/netflix.com  Netflix     dc425051-df94-3509-9103-cf8c0f0bcf6a            netflix.com  []                   subscription\n2022-02-01     17.99  outgoing      USD                  Netflix        cd1738c1-9e66-4d96-b25e-9fc9c7a510f5  tx-2              ['entertainment', 'television', 'subscriptions']              https://logos.ntropy.com/netflix.com  Netflix     dc425051-df94-3509-9103-cf8c0f0bcf6a            netflix.com  []                   subscription\n2022-01-01     17.99  outgoing      USD                  Netflix        cd1738c1-9e66-4d96-b25e-9fc9c7a510f5  tx-1              ['entertainment', 'television', 'subscriptions']              https://logos.ntropy.com/netflix.com  Netflix     dc425051-df94-3509-9103-cf8c0f0bcf6a            netflix.com  []                   subscription",
      "text/html": "<div>\n<style scoped>\n    .dataframe tbody tr th:only-of-type {\n        vertical-align: middle;\n    }\n\n    .dataframe tbody tr th {\n        vertical-align: top;\n    }\n\n    .dataframe thead th {\n        text-align: right;\n    }\n</style>\n<table border=\"1\" class=\"dataframe\">\n  <thead>\n    <tr style=\"text-align: right;\">\n      <th></th>\n      <th>date</th>\n      <th>amount</th>\n      <th>entry_type</th>\n      <th>iso_currency_code</th>\n      <th>description</th>\n      <th>account_holder_id</th>\n      <th>transaction_id</th>\n      <th>labels</th>\n      <th>location</th>\n      <th>logo</th>\n      <th>merchant</th>\n      <th>merchant_id</th>\n      <th>person</th>\n      <th>website</th>\n      <th>chart_of_accounts</th>\n      <th>recurrence</th>\n      <th>recurrence_group</th>\n    </tr>\n  </thead>\n  <tbody>\n    <tr>\n      <th>0</th>\n      <td>2022-04-01</td>\n      <td>17.99</td>\n      <td>outgoing</td>\n      <td>USD</td>\n      <td>Netflix</td>\n      <td>cd1738c1-9e66-4d96-b25e-9fc9c7a510f5</td>\n      <td>tx-4</td>\n      <td>[entertainment, television, subscriptions]</td>\n      <td>None</td>\n      <td>https://logos.ntropy.com/netflix.com</td>\n      <td>Netflix</td>\n      <td>dc425051-df94-3509-9103-cf8c0f0bcf6a</td>\n      <td>None</td>\n      <td>netflix.com</td>\n      <td>[]</td>\n      <td>subscription</td>\n      <td>None</td>\n    </tr>\n    <tr>\n      <th>1</th>\n      <td>2022-03-01</td>\n      <td>17.99</td>\n      <td>outgoing</td>\n      <td>USD</td>\n      <td>Netflix</td>\n      <td>cd1738c1-9e66-4d96-b25e-9fc9c7a510f5</td>\n      <td>tx-3</td>\n      <td>[entertainment, television, subscriptions]</td>\n      <td>None</td>\n      <td>https://logos.ntropy.com/netflix.com</td>\n      <td>Netflix</td>\n      <td>dc425051-df94-3509-9103-cf8c0f0bcf6a</td>\n      <td>None</td>\n      <td>netflix.com</td>\n      <td>[]</td>\n      <td>subscription</td>\n      <td>None</td>\n    </tr>\n    <tr>\n      <th>2</th>\n      <td>2022-02-01</td>\n      <td>17.99</td>\n      <td>outgoing</td>\n      <td>USD</td>\n      <td>Netflix</td>\n      <td>cd1738c1-9e66-4d96-b25e-9fc9c7a510f5</td>\n      <td>tx-2</td>\n      <td>[entertainment, television, subscriptions]</td>\n      <td>None</td>\n      <td>https://logos.ntropy.com/netflix.com</td>\n      <td>Netflix</td>\n      <td>dc425051-df94-3509-9103-cf8c0f0bcf6a</td>\n      <td>None</td>\n      <td>netflix.com</td>\n      <td>[]</td>\n      <td>subscription</td>\n      <td>None</td>\n    </tr>\n    <tr>\n      <th>3</th>\n      <td>2022-01-01</td>\n      <td>17.99</td>\n      <td>outgoing</td>\n      <td>USD</td>\n      <td>Netflix</td>\n      <td>cd1738c1-9e66-4d96-b25e-9fc9c7a510f5</td>\n      <td>tx-1</td>\n      <td>[entertainment, television, subscriptions]</td>\n      <td>None</td>\n      <td>https://logos.ntropy.com/netflix.com</td>\n      <td>Netflix</td>\n      <td>dc425051-df94-3509-9103-cf8c0f0bcf6a</td>\n      <td>None</td>\n      <td>netflix.com</td>\n      <td>[]</td>\n      <td>subscription</td>\n      <td>None</td>\n    </tr>\n  </tbody>\n</table>\n</div>"
     },
     "execution_count": 14,
     "metadata": {},
     "output_type": "execute_result"
    }
   ],
   "source": [
    "subscriptions[0].transactions"
   ],
   "metadata": {
    "collapsed": false,
    "pycharm": {
     "name": "#%%\n"
    }
   }
  },
  {
   "cell_type": "code",
   "execution_count": 15,
   "outputs": [
    {
     "data": {
      "text/plain": "  # txs    amount  merchant    website      labels          periodicity    is_active    first_payment_date    latest_payment_date    next_expected_payment_date    type          is_essential\n-------  --------  ----------  -----------  --------------  -------------  -----------  --------------------  ---------------------  ----------------------------  ------------  --------------\n      4     17.99  Netflix     netflix.com  entertainment   monthly        True         2022-01-01            2022-04-01             2022-05-01                    subscription  False\n                                            television\n                                            subscriptions\n      1     11.99  Dropbox     dropbox.com  goods software  monthly        True         2022-03-15            2022-03-15             2022-04-15                    subscription  False\n                                            subscriptions\n      3      9.99  Spotify     spotify.com  entertainment   monthly        True         2022-01-15            2022-03-15             2022-04-15                    subscription  False\n                                            music\n                                            subscriptions",
      "text/html": "<div>\n<style scoped>\n    .dataframe tbody tr th:only-of-type {\n        vertical-align: middle;\n    }\n\n    .dataframe tbody tr th {\n        vertical-align: top;\n    }\n\n    .dataframe thead th {\n        text-align: right;\n    }\n</style>\n<table border=\"1\" class=\"dataframe\">\n  <thead>\n    <tr style=\"text-align: right;\">\n      <th></th>\n      <th># txs</th>\n      <th>amount</th>\n      <th>merchant</th>\n      <th>website</th>\n      <th>labels</th>\n      <th>periodicity</th>\n      <th>is_active</th>\n      <th>first_payment_date</th>\n      <th>latest_payment_date</th>\n      <th>next_expected_payment_date</th>\n      <th>type</th>\n      <th>is_essential</th>\n    </tr>\n  </thead>\n  <tbody>\n    <tr>\n      <th>0</th>\n      <td>4</td>\n      <td>17.99</td>\n      <td>Netflix</td>\n      <td>netflix.com</td>\n      <td>[entertainment, television, subscriptions]</td>\n      <td>monthly</td>\n      <td>True</td>\n      <td>2022-01-01</td>\n      <td>2022-04-01</td>\n      <td>2022-05-01</td>\n      <td>subscription</td>\n      <td>False</td>\n    </tr>\n    <tr>\n      <th>1</th>\n      <td>1</td>\n      <td>11.99</td>\n      <td>Dropbox</td>\n      <td>dropbox.com</td>\n      <td>[goods, software, subscriptions]</td>\n      <td>monthly</td>\n      <td>True</td>\n      <td>2022-03-15</td>\n      <td>2022-03-15</td>\n      <td>2022-04-15</td>\n      <td>subscription</td>\n      <td>False</td>\n    </tr>\n    <tr>\n      <th>2</th>\n      <td>3</td>\n      <td>9.99</td>\n      <td>Spotify</td>\n      <td>spotify.com</td>\n      <td>[entertainment, music, subscriptions]</td>\n      <td>monthly</td>\n      <td>True</td>\n      <td>2022-01-15</td>\n      <td>2022-03-15</td>\n      <td>2022-04-15</td>\n      <td>subscription</td>\n      <td>False</td>\n    </tr>\n  </tbody>\n</table>\n</div>"
     },
     "metadata": {},
     "output_type": "display_data"
    },
    {
     "data": {
      "text/plain": "113.92"
     },
     "metadata": {},
     "output_type": "display_data"
    }
   ],
   "source": [
    "active_subscriptions = subscriptions.subscriptions().active()\n",
    "display(active_subscriptions)\n",
    "display(active_subscriptions.total_amount())"
   ],
   "metadata": {
    "collapsed": false,
    "pycharm": {
     "name": "#%%\n"
    }
   }
  },
  {
   "cell_type": "code",
   "execution_count": 16,
   "outputs": [
    {
     "data": {
      "text/plain": "  # txs    amount  merchant      website    labels        periodicity    is_active    first_payment_date    latest_payment_date    next_expected_payment_date    type    is_essential\n-------  --------  ------------  ---------  ------------  -------------  -----------  --------------------  ---------------------  ----------------------------  ------  --------------\n      3      1000                           housing rent  monthly        True         2022-01-01            2022-03-01             2022-04-01                    bill    True\n      3       100  Consolidated  coned.com  utilities     monthly        True         2022-01-01            2022-03-01             2022-04-01                    bill    True\n                   Edison",
      "text/html": "<div>\n<style scoped>\n    .dataframe tbody tr th:only-of-type {\n        vertical-align: middle;\n    }\n\n    .dataframe tbody tr th {\n        vertical-align: top;\n    }\n\n    .dataframe thead th {\n        text-align: right;\n    }\n</style>\n<table border=\"1\" class=\"dataframe\">\n  <thead>\n    <tr style=\"text-align: right;\">\n      <th></th>\n      <th># txs</th>\n      <th>amount</th>\n      <th>merchant</th>\n      <th>website</th>\n      <th>labels</th>\n      <th>periodicity</th>\n      <th>is_active</th>\n      <th>first_payment_date</th>\n      <th>latest_payment_date</th>\n      <th>next_expected_payment_date</th>\n      <th>type</th>\n      <th>is_essential</th>\n    </tr>\n  </thead>\n  <tbody>\n    <tr>\n      <th>0</th>\n      <td>3</td>\n      <td>1000.0</td>\n      <td></td>\n      <td></td>\n      <td>[housing, rent]</td>\n      <td>monthly</td>\n      <td>True</td>\n      <td>2022-01-01</td>\n      <td>2022-03-01</td>\n      <td>2022-04-01</td>\n      <td>bill</td>\n      <td>True</td>\n    </tr>\n    <tr>\n      <th>1</th>\n      <td>3</td>\n      <td>100.0</td>\n      <td>Consolidated Edison</td>\n      <td>coned.com</td>\n      <td>[utilities]</td>\n      <td>monthly</td>\n      <td>True</td>\n      <td>2022-01-01</td>\n      <td>2022-03-01</td>\n      <td>2022-04-01</td>\n      <td>bill</td>\n      <td>True</td>\n    </tr>\n  </tbody>\n</table>\n</div>"
     },
     "metadata": {},
     "output_type": "display_data"
    },
    {
     "data": {
      "text/plain": "3300.0"
     },
     "metadata": {},
     "output_type": "display_data"
    }
   ],
   "source": [
    "active_recurring_bills = subscriptions.recurring_bills().active()\n",
    "display(active_recurring_bills)\n",
    "display(active_recurring_bills.total_amount())\n"
   ],
   "metadata": {
    "collapsed": false,
    "pycharm": {
     "name": "#%%\n"
    }
   }
  }
 ],
 "metadata": {
  "kernelspec": {
   "display_name": "Python 3 (ipykernel)",
   "language": "python",
   "name": "python3"
  },
  "language_info": {
   "codemirror_mode": {
    "name": "ipython",
    "version": 3
   },
   "file_extension": ".py",
   "mimetype": "text/x-python",
   "name": "python",
   "nbconvert_exporter": "python",
   "pygments_lexer": "ipython3",
   "version": "3.8.9"
  }
 },
 "nbformat": 4,
 "nbformat_minor": 1
}